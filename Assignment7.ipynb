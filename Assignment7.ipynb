{
 "cells": [
  {
   "cell_type": "markdown",
   "id": "d7ca858f-d093-421f-ad4d-870f76e803ba",
   "metadata": {},
   "source": [
    "# Q.1. Create two int type variables, apply addition, subtraction, division and multiplications and store the results in variables. Then print the data in the following format by calling the variables: First variable is __ & second variable is __. \n",
    "# Addition: __ + __ = __ \n",
    "# Subtraction: __ - __ = __ \n",
    "# Multiplication: __ * __ = __\n",
    "# Division: __ / __ = __\n"
   ]
  },
  {
   "cell_type": "markdown",
   "id": "1ade8dcb-4fec-402d-9211-c040110d73af",
   "metadata": {},
   "source": [
    "Ans: Code to perform given airthmatic operator for two int type variable is:"
   ]
  },
  {
   "cell_type": "code",
   "execution_count": 2,
   "id": "27fb5a52-3ee0-4170-a5ff-0c553959a59b",
   "metadata": {},
   "outputs": [
    {
     "name": "stdout",
     "output_type": "stream",
     "text": [
      "18\n",
      "12\n",
      "45\n",
      "5.0\n"
     ]
    }
   ],
   "source": [
    "a = 15\n",
    "b = 3\n",
    "\n",
    "print(a+b) # Addition\n",
    "print(a-b) # Subtraction\n",
    "print(a*b) # Multiplication\n",
    "print(a/b) # Division\n"
   ]
  },
  {
   "cell_type": "markdown",
   "id": "b247f0db-068f-4417-9185-e103b9eb6ff2",
   "metadata": {},
   "source": [
    "# Q.2. What is the difference between the following operators: (i) ‘/’ & ‘//’ (ii) ‘**’ & ‘^’ "
   ]
  },
  {
   "cell_type": "markdown",
   "id": "e0e3b09e-7c07-470d-bb59-366087895e9c",
   "metadata": {},
   "source": [
    "Ans: \n",
    "(i) '/' is the division operator. and '//' is the floor division operator.\n",
    "\n",
    "(ii) ‘**’ is the airthmatic operator which is used to define squre value. and ‘^’ is the bitwise XOR operator.\n"
   ]
  },
  {
   "cell_type": "markdown",
   "id": "883320a7-2f35-44cb-a93f-f25855a809e6",
   "metadata": {},
   "source": [
    "# Q.3. List the logical operators. "
   ]
  },
  {
   "cell_type": "markdown",
   "id": "9cf779d4-36f8-4590-a626-87eede849645",
   "metadata": {},
   "source": [
    "Ans: Logical Operators are AND, OR, NOT.\n"
   ]
  },
  {
   "cell_type": "markdown",
   "id": "e9154381-b60c-448d-a0c3-5b1ee78f073e",
   "metadata": {},
   "source": [
    "# Q.4. Explain right shift operator and left shift operator with examples. "
   ]
  },
  {
   "cell_type": "markdown",
   "id": "128617ac-7b92-4de9-91e9-a344acb27a7d",
   "metadata": {},
   "source": [
    "Ans: The bitwise shift operators are the right-shift operator ( >> ), which moves the bits of an integer or enumeration type expression to the right, and the left-shift operator ( << ), which moves the bits to the left."
   ]
  },
  {
   "cell_type": "code",
   "execution_count": 14,
   "id": "c9c4c199-7288-434e-895a-4cc02de6cd15",
   "metadata": {},
   "outputs": [
    {
     "name": "stdout",
     "output_type": "stream",
     "text": [
      "7\n"
     ]
    }
   ],
   "source": [
    "# Right shift operator\n",
    "a = 14\n",
    "result = a >> 1 \n",
    "print(result)\n"
   ]
  },
  {
   "cell_type": "code",
   "execution_count": 15,
   "id": "01f97e72-5086-4dfe-aa41-d10e41793148",
   "metadata": {},
   "outputs": [
    {
     "name": "stdout",
     "output_type": "stream",
     "text": [
      "40\n"
     ]
    }
   ],
   "source": [
    "# Left shift operator\n",
    "a = 10\n",
    "result = a << 2\n",
    "print(result)\n"
   ]
  },
  {
   "cell_type": "markdown",
   "id": "0cd27c3e-befc-4a3d-86c5-fdeea715939f",
   "metadata": {},
   "source": [
    "# Q.5. Create a list containing int type data of length 15. Then write a code to check if 10 is present in the list or not."
   ]
  },
  {
   "cell_type": "markdown",
   "id": "cc36405c-b3eb-425d-8904-b8184d473f71",
   "metadata": {},
   "source": [
    "Ans: The code is:"
   ]
  },
  {
   "cell_type": "code",
   "execution_count": 16,
   "id": "692ebaba-da61-49dd-8d17-f01371231125",
   "metadata": {},
   "outputs": [
    {
     "name": "stdout",
     "output_type": "stream",
     "text": [
      "exist\n"
     ]
    }
   ],
   "source": [
    "list=[ 1,2,4,7,8,9,10, 6, 3, 5, 3, 4,11,2,4 ]\n",
    "#checking if element 10 is present\n",
    "# in the given list or not\n",
    "i=10\n",
    "# if element present then return\n",
    "# exist otherwise not exist\n",
    "if i in list:\n",
    "    print(\"exist\")\n",
    "else:\n",
    "    print(\"not exist\")\n"
   ]
  }
 ],
 "metadata": {
  "kernelspec": {
   "display_name": "Python 3 (ipykernel)",
   "language": "python",
   "name": "python3"
  },
  "language_info": {
   "codemirror_mode": {
    "name": "ipython",
    "version": 3
   },
   "file_extension": ".py",
   "mimetype": "text/x-python",
   "name": "python",
   "nbconvert_exporter": "python",
   "pygments_lexer": "ipython3",
   "version": "3.10.6"
  }
 },
 "nbformat": 4,
 "nbformat_minor": 5
}
